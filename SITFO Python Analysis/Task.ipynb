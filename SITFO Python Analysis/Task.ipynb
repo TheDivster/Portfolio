{
 "cells": [
  {
   "cell_type": "code",
   "execution_count": 1,
   "metadata": {
    "collapsed": true
   },
   "outputs": [],
   "source": [
    "import pandas as pd\n",
    "import numpy as np\n",
    "from matplotlib import pyplot as plt"
   ]
  },
  {
   "cell_type": "markdown",
   "source": [
    "# Our Portfolio\n",
    "This portfolio will be composed of 30% Global Equity Composite, 40% US Large Cap Composite, and 30% US Small Cap Composite.<br>\n",
    "If we have a portfolio of 1000 dollars, we will have 300 dollars Global Equity Composite, 400 dollars US Large Cap Composite, and 300 dollars US Small Cap Composite."
   ],
   "metadata": {
    "collapsed": false,
    "pycharm": {
     "name": "#%% md\n"
    }
   }
  },
  {
   "cell_type": "code",
   "execution_count": 2,
   "outputs": [
    {
     "name": "stdout",
     "output_type": "stream",
     "text": [
      "  Unnamed: 0  SPXT Index  Global Equity Composite  US Large Cap Composite  \\\n",
      "0 2018-10-31   -6.835004                -8.234011                 -8.8293   \n",
      "1 2018-11-30    2.037810                 1.424678                  1.6768   \n",
      "2 2018-12-31   -9.028986                -7.688047                 -9.7482   \n",
      "3 2019-01-31    8.013491                 8.359417                  9.9469   \n",
      "4 2019-02-28    3.210845                 2.719120                  2.7959   \n",
      "\n",
      "   US Small Cap Composite  \n",
      "0                 -9.9174  \n",
      "1                 -0.7973  \n",
      "2                -11.3766  \n",
      "3                 11.9195  \n",
      "4                  4.6644  \n"
     ]
    }
   ],
   "source": [
    "portfolio = pd.read_excel(\"Intern_Portfolio_Task.xlsx\", sheet_name=1)\n",
    "print(portfolio.head())"
   ],
   "metadata": {
    "collapsed": false,
    "pycharm": {
     "name": "#%%\n"
    }
   }
  },
  {
   "cell_type": "markdown",
   "source": [
    "# Note\n",
    "We see that the first column is unnamed.\n",
    "Let's fix that."
   ],
   "metadata": {
    "collapsed": false,
    "pycharm": {
     "name": "#%% md\n"
    }
   }
  },
  {
   "cell_type": "code",
   "execution_count": 3,
   "outputs": [
    {
     "name": "stdout",
     "output_type": "stream",
     "text": [
      "        Date  SPXT Index  Global Equity Composite  US Large Cap Composite  \\\n",
      "0 2018-10-31   -6.835004                -8.234011                 -8.8293   \n",
      "1 2018-11-30    2.037810                 1.424678                  1.6768   \n",
      "2 2018-12-31   -9.028986                -7.688047                 -9.7482   \n",
      "3 2019-01-31    8.013491                 8.359417                  9.9469   \n",
      "4 2019-02-28    3.210845                 2.719120                  2.7959   \n",
      "\n",
      "   US Small Cap Composite  \n",
      "0                 -9.9174  \n",
      "1                 -0.7973  \n",
      "2                -11.3766  \n",
      "3                 11.9195  \n",
      "4                  4.6644  \n"
     ]
    }
   ],
   "source": [
    "portfolio.rename({'Unnamed: 0': 'Date'}, axis=1, inplace=True)\n",
    "print(portfolio.head())"
   ],
   "metadata": {
    "collapsed": false,
    "pycharm": {
     "name": "#%%\n"
    }
   }
  },
  {
   "cell_type": "markdown",
   "source": [
    "Let's check the data types to make sure that we can properly perform analysis."
   ],
   "metadata": {
    "collapsed": false,
    "pycharm": {
     "name": "#%% md\n"
    }
   }
  },
  {
   "cell_type": "code",
   "execution_count": 4,
   "outputs": [
    {
     "name": "stdout",
     "output_type": "stream",
     "text": [
      "Date                       datetime64[ns]\n",
      "SPXT Index                        float64\n",
      "Global Equity Composite           float64\n",
      "US Large Cap Composite            float64\n",
      "US Small Cap Composite            float64\n",
      "dtype: object\n"
     ]
    }
   ],
   "source": [
    "print(portfolio.dtypes)"
   ],
   "metadata": {
    "collapsed": false,
    "pycharm": {
     "name": "#%%\n"
    }
   }
  },
  {
   "cell_type": "markdown",
   "source": [
    "Everything looks good. Let's start."
   ],
   "metadata": {
    "collapsed": false,
    "pycharm": {
     "name": "#%% md\n"
    }
   }
  },
  {
   "cell_type": "markdown",
   "source": [
    "Let's calculate beta.\n",
    "Let's make a helper method to calculate beta."
   ],
   "metadata": {
    "collapsed": false,
    "pycharm": {
     "name": "#%% md\n"
    }
   }
  },
  {
   "cell_type": "code",
   "execution_count": 5,
   "outputs": [],
   "source": [
    "def beta(e, m):\n",
    "    covariance = np.cov(e, m)[0][1]\n",
    "    variance   = np.var(m)\n",
    "    return covariance / variance"
   ],
   "metadata": {
    "collapsed": false,
    "pycharm": {
     "name": "#%%\n"
    }
   }
  },
  {
   "cell_type": "markdown",
   "source": [
    "Calculate beta:"
   ],
   "metadata": {
    "collapsed": false,
    "pycharm": {
     "name": "#%% md\n"
    }
   }
  },
  {
   "cell_type": "code",
   "execution_count": 6,
   "outputs": [
    {
     "name": "stdout",
     "output_type": "stream",
     "text": [
      "Our portfolio beta is 1.1720322738280262\n"
     ]
    }
   ],
   "source": [
    "portfolio_beta = beta(portfolio[\"Global Equity Composite\"], portfolio[\"SPXT Index\"]) * 0.3 + beta(portfolio[\"US Large Cap Composite\"], portfolio[\"SPXT Index\"]) * 0.4 + beta(portfolio[\"US Small Cap Composite\"], portfolio[\"SPXT Index\"]) * 0.3\n",
    "print(\"Our portfolio beta is\", portfolio_beta)"
   ],
   "metadata": {
    "collapsed": false,
    "pycharm": {
     "name": "#%%\n"
    }
   }
  },
  {
   "cell_type": "markdown",
   "source": [
    "# Analysis\n",
    "Since our beta is just above 1 our stock will move slightly more than the market. This means greater losses when the market moves down, but it means greater gains when the market moves up."
   ],
   "metadata": {
    "collapsed": false,
    "pycharm": {
     "name": "#%% md\n"
    }
   }
  },
  {
   "cell_type": "markdown",
   "source": [
    "# Let's calculate VaR\n",
    "\n",
    "Let's make a list containing the monthly gains and losses of our portfolio."
   ],
   "metadata": {
    "collapsed": false,
    "pycharm": {
     "name": "#%% md\n"
    }
   }
  },
  {
   "cell_type": "code",
   "execution_count": 7,
   "outputs": [],
   "source": [
    "returns = []\n",
    "for data in portfolio[\"Global Equity Composite\"]:\n",
    "    returns.append(data * 0.3)\n",
    "for data in portfolio[\"US Large Cap Composite\"]:\n",
    "    returns.append(data * 0.4)\n",
    "for data in portfolio[\"US Small Cap Composite\"]:\n",
    "    returns.append(data * 0.3)"
   ],
   "metadata": {
    "collapsed": false,
    "pycharm": {
     "name": "#%%\n"
    }
   }
  },
  {
   "cell_type": "markdown",
   "source": [
    "Use the quantile function to show the VaR"
   ],
   "metadata": {
    "collapsed": false,
    "pycharm": {
     "name": "#%% md\n"
    }
   }
  },
  {
   "cell_type": "code",
   "execution_count": 8,
   "outputs": [
    {
     "name": "stdout",
     "output_type": "stream",
     "text": [
      "The VaR of our portfolio is -3.4381350000000004\n"
     ]
    }
   ],
   "source": [
    "var = np.quantile(returns, 0.05)\n",
    "print(\"The VaR of our portfolio is\", var)"
   ],
   "metadata": {
    "collapsed": false,
    "pycharm": {
     "name": "#%%\n"
    }
   }
  },
  {
   "cell_type": "markdown",
   "source": [
    "# Analysis\n",
    "This means that 95% of the time, we will not see losses greater than -3.4381% a month. <br>\n",
    "Plot VaR to better visualize what this looks like."
   ],
   "metadata": {
    "collapsed": false,
    "pycharm": {
     "name": "#%% md\n"
    }
   }
  },
  {
   "cell_type": "code",
   "execution_count": 9,
   "outputs": [
    {
     "data": {
      "text/plain": "<Figure size 432x288 with 1 Axes>",
      "image/png": "[encoded data removed]"
     },
     "metadata": {
      "needs_background": "light"
     },
     "output_type": "display_data"
    }
   ],
   "source": [
    "plt.hist(returns)\n",
    "plt.title(\"Histogram of Returns\")\n",
    "plt.axvline(x=var, color='red', label='VaR')\n",
    "plt.legend()\n",
    "plt.show()"
   ],
   "metadata": {
    "collapsed": false,
    "pycharm": {
     "name": "#%%\n"
    }
   }
  }
 ],
 "metadata": {
  "kernelspec": {
   "display_name": "Python 3",
   "language": "python",
   "name": "python3"
  },
  "language_info": {
   "codemirror_mode": {
    "name": "ipython",
    "version": 2
   },
   "file_extension": ".py",
   "mimetype": "text/x-python",
   "name": "python",
   "nbconvert_exporter": "python",
   "pygments_lexer": "ipython2",
   "version": "2.7.6"
  }
 },
 "nbformat": 4,
 "nbformat_minor": 0
}